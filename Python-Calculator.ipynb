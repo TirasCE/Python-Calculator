{
  "nbformat": 4,
  "nbformat_minor": 0,
  "metadata": {
    "colab": {
      "provenance": []
    },
    "kernelspec": {
      "name": "python3",
      "display_name": "Python 3"
    },
    "language_info": {
      "name": "python"
    }
  },
  "cells": [
    {
      "cell_type": "code",
      "source": [
        "# trying for myself\n",
        "\n",
        "# Color codes\n",
        "RED = \"\\033[31m\"\n",
        "GREEN = \"\\033[32m\"\n",
        "YELLOW = \"\\033[33m\"\n",
        "RESET = \"\\033[0m\"\n",
        "\n",
        "#creating the function\n",
        "def calculate(num1, num2, op):\n",
        "  try:\n",
        "    #Addition\n",
        "    if op in [\"+\", \"add\", \"sum\"]:\n",
        "      result = num1 + num2\n",
        "      symbol = \"➕\"\n",
        "    #Substraction\n",
        "    elif op in [\"-\", \"minus\", \"difference\"]:\n",
        "      result = num1 - num2\n",
        "      symbol = \"➖\"\n",
        "    #Multiplication\n",
        "    elif op in [\"*\", \"multiply\", \"times\"]:\n",
        "      result = num1 * num2\n",
        "      symbol = \"✖\"\n",
        "    #Division\n",
        "    elif op in [\"/\", \"divide\"]:\n",
        "      if num2 != 0:\n",
        "        result = num1 / num2\n",
        "        symbol = \"➗\"\n",
        "      else:\n",
        "        return RED +\"❌Error: Cannot divide by zero!\" + RESET\n",
        "\n",
        "    else:\n",
        "      return RED + \"❌ Error: Invalid operator\" + RESET\n",
        "\n",
        "    #output\n",
        "    return (GREEN +\n",
        "            \"=============================== \\n\" +\n",
        "            f\"{num1}  {op} {num2} = {result} \\n\" +\n",
        "            \"===============================\" +\n",
        "            RESET)\n",
        "\n",
        "  except Exception as e:\n",
        "    return RED + f\"❌Error:{a} \" + RESET\n",
        "\n",
        "\n",
        "while True:\n",
        "  try:\n",
        "    #inputs\n",
        "    num1 = float(input(\"Enter first number: \"))\n",
        "    num2 = float(input(\"Enter second number: \"))\n",
        "    op = input(\"Enter operation (+, -, *, /, %, ** or word): \").strip().lower()\n",
        "\n",
        "    print(calculate(num1, num2, op))\n",
        "\n",
        "    #recalulate or not\n",
        "    choice = input(\"Do you want to calculte again (y/n)? \")\n",
        "    if choice.strip().lower() not in [\"y\", \"yes\"]:\n",
        "      print(YELLOW + \"⚠ Good bye 👋\" + RESET)\n",
        "      break\n",
        "\n",
        "  except ValueError:\n",
        "    print(RED + \"❌Error: Enter a valid number\" + RESET)\n"
      ],
      "metadata": {
        "colab": {
          "base_uri": "https://localhost:8080/"
        },
        "id": "XAmuJaWGMiLz",
        "outputId": "63eeec28-430b-4cb4-d125-a2096557a9dc"
      },
      "execution_count": 6,
      "outputs": [
        {
          "output_type": "stream",
          "name": "stdout",
          "text": [
            "Enter first number: 6\n",
            "Enter second number: 0\n",
            "Enter operation (+, -, *, /, %, ** or word): /\n",
            "\u001b[31m❌Error: Cannot divide by zero!\u001b[0m\n",
            "Do you want to calculte again (y/n)? y\n",
            "Enter first number: t\n",
            "\u001b[31m❌Error: Enter a valid number\u001b[0m\n",
            "Enter first number: 56\n",
            "Enter second number: [\n",
            "\u001b[31m❌Error: Enter a valid number\u001b[0m\n",
            "Enter first number: 45\n",
            "Enter second number: 34\n",
            "Enter operation (+, -, *, /, %, ** or word): ]\n",
            "\u001b[31m❌ Error: Invalid operator\u001b[0m\n",
            "Do you want to calculte again (y/n)? y\n",
            "Enter first number: t\n",
            "\u001b[31m❌Error: Enter a valid number\u001b[0m\n",
            "Enter first number: 67\n",
            "Enter second number: 46\n",
            "Enter operation (+, -, *, /, %, ** or word): /\n",
            "\u001b[32m=============================== \n",
            "67.0  / 46.0 = 1.4565217391304348 \n",
            "===============================\u001b[0m\n",
            "Do you want to calculte again (y/n)? n\n",
            "\u001b[33m⚠ Good bye 👋\u001b[0m\n"
          ]
        }
      ]
    }
  ]
}